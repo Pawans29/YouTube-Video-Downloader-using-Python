{
 "cells": [
  {
   "cell_type": "code",
   "execution_count": 1,
   "id": "e2866dfc",
   "metadata": {},
   "outputs": [],
   "source": [
    "#! pip install pytube"
   ]
  },
  {
   "cell_type": "code",
   "execution_count": 2,
   "id": "e5a91519",
   "metadata": {},
   "outputs": [],
   "source": [
    "from tkinter import *\n",
    "from pytube import YouTube"
   ]
  },
  {
   "cell_type": "code",
   "execution_count": 3,
   "id": "8aec9bf4",
   "metadata": {},
   "outputs": [],
   "source": [
    "## creating a display module\n",
    "\n",
    "root = Tk()\n",
    "root.geometry('500x300')\n",
    "root.title(\"YouTube Video Downloader\")\n",
    "\n",
    "## labelling the window\n",
    "Label(root,text = 'Video Downloader', font ='arial 20 bold').pack()\n",
    "\n",
    "\n",
    "#### Tk() is used to initialize tkinter to create display window\n",
    "##geometry() is used to set the window’s width and height\n",
    "##title() is used to give the title of window\n",
    "##Label() is use to display text, users cant edit that\n",
    "##root is the name of the window, pack orgises the  in block"
   ]
  },
  {
   "cell_type": "code",
   "execution_count": 4,
   "id": "ed000983",
   "metadata": {},
   "outputs": [],
   "source": [
    "## Create Field to Enter Link\n",
    "\n",
    "link = StringVar()\n",
    "Label(root, text = 'Paste Link Here:', font = 'arial 15 bold').place(x= 100 , y = 60)\n",
    "link_enter = Entry(root, width = 70,textvariable = link).place(x = 32, y = 90)\n",
    "\n",
    "####link is a string type variable that stores the youtube video link that the user enters.\n",
    "##Entry() widget is used when we want to create an input text field.\n",
    "##width sets the width of entry widget\n",
    "##textvariable used to retrieve the value of current text variable to the entry widget\n",
    "##place() use to place the widget at a specific position"
   ]
  },
  {
   "cell_type": "code",
   "execution_count": null,
   "id": "b09c7a10",
   "metadata": {},
   "outputs": [],
   "source": [
    "## defining a function to download\n",
    "\n",
    "def Downloader():     \n",
    "    url =YouTube(str(link.get()))\n",
    "    video = url.streams.first()\n",
    "    video.download()\n",
    "    Label(root, text = 'DOWNLOADED', font = 'arial 15').place(x= 180 , y = 210)  \n",
    "Button(root,text = 'DOWNLOAD', font = 'arial 15 bold' ,bg = 'red', padx = 2, command = Downloader).place(x=180 ,y = 150)\n",
    "root.mainloop()\n",
    "\n",
    "##Url variable gets the youtube link from the link variable by get() function and then str() will convert the link in string datatype.\n",
    "\n",
    "##The video is download in the first present stream of that video by stream.first() method.\n",
    "\n",
    "##root.mainloop() is a method that executes when we want to run the program.\n",
    "\n"
   ]
  },
  {
   "cell_type": "code",
   "execution_count": null,
   "id": "009b42a2",
   "metadata": {},
   "outputs": [],
   "source": []
  },
  {
   "cell_type": "code",
   "execution_count": null,
   "id": "b26aa3d3",
   "metadata": {},
   "outputs": [],
   "source": []
  },
  {
   "cell_type": "code",
   "execution_count": null,
   "id": "dfe21350",
   "metadata": {},
   "outputs": [],
   "source": []
  }
 ],
 "metadata": {
  "kernelspec": {
   "display_name": "Python 3 (ipykernel)",
   "language": "python",
   "name": "python3"
  },
  "language_info": {
   "codemirror_mode": {
    "name": "ipython",
    "version": 3
   },
   "file_extension": ".py",
   "mimetype": "text/x-python",
   "name": "python",
   "nbconvert_exporter": "python",
   "pygments_lexer": "ipython3",
   "version": "3.8.8"
  }
 },
 "nbformat": 4,
 "nbformat_minor": 5
}
